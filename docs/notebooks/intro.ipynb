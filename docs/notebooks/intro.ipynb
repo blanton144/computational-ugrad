{
 "cells": [
  {
   "cell_type": "markdown",
   "metadata": {},
   "source": [
    "This notebook contains some basic Python material relevant for Computational Physics. Each cell in a notebook has either Python code, or (like this one), some text written in \"Markdown,\" which is a pretty simple formatting language."
   ]
  },
  {
   "cell_type": "code",
   "execution_count": 1,
   "metadata": {},
   "outputs": [],
   "source": [
    "# This is \"magic\" (a technical term for the use of the % sign) which \n",
    "# allows the plotting routines of matplotlib to appear in the notebook\n",
    "%matplotlib inline"
   ]
  },
  {
   "cell_type": "markdown",
   "metadata": {},
   "source": [
    "## Basics of programming in Python"
   ]
  },
  {
   "cell_type": "markdown",
   "metadata": {},
   "source": [
    "The first part of any Python software involves \"importing\" the necessary libraries. Python itself contains the basic programming tools (control flow, functions, classes, etc) but for almost anything you do you need to import specific libraries. Below we import the important ones for us."
   ]
  },
  {
   "cell_type": "code",
   "execution_count": 2,
   "metadata": {},
   "outputs": [],
   "source": [
    "# Numpy is Numerical Python, and it contains the basic tools \n",
    "# one needs to use Python for computational work. \n",
    "import numpy as np\n",
    "\n",
    "# matplotlib is a pretty standard-use plotting library. The \n",
    "# book for this course introduces some others as well, which\n",
    "# you are free to explore and use.\n",
    "import matplotlib.pyplot as plt"
   ]
  },
  {
   "cell_type": "markdown",
   "metadata": {},
   "source": [
    "There are some basic programming things in Python that I will not cover here but which can be found in any Python tutorial (e.g. in Software Carpentry). Here are a handful of examples:"
   ]
  },
  {
   "cell_type": "code",
   "execution_count": 3,
   "metadata": {},
   "outputs": [
    {
     "name": "stdout",
     "output_type": "stream",
     "text": [
      "0\n",
      "1\n",
      "2\n",
      "3\n",
      "4\n",
      "5\n",
      "6\n",
      "7\n",
      "8\n",
      "9\n"
     ]
    }
   ],
   "source": [
    "# A loop\n",
    "for indx in np.arange(10):\n",
    "    print(indx)"
   ]
  },
  {
   "cell_type": "code",
   "execution_count": 5,
   "metadata": {},
   "outputs": [
    {
     "name": "stdout",
     "output_type": "stream",
     "text": [
      "Value is low\n"
     ]
    }
   ],
   "source": [
    "# A conditional\n",
    "value = 9.\n",
    "if(value > 11):\n",
    "    print(\"Value is high\")\n",
    "else:\n",
    "    print(\"Value is low\")"
   ]
  },
  {
   "cell_type": "code",
   "execution_count": 6,
   "metadata": {},
   "outputs": [],
   "source": [
    "# A function\n",
    "def silly(x=None):\n",
    "    \"\"\"A silly function\n",
    "    \n",
    "    Parameters\n",
    "    ----------\n",
    "    \n",
    "    x : float\n",
    "    \n",
    "    Returns\n",
    "    -------\n",
    "    \n",
    "    val : float\n",
    "    \n",
    "    Comments\n",
    "    --------\n",
    "    \n",
    "    Value returned is x^2 * exp(x) - 3.\n",
    "    \n",
    "    This string in the function is what is known as a \"docstring\". \n",
    "    There are a number of packages that will read a Python module\n",
    "    and extract the docstrings to build documentation web pages.\n",
    "    A very commonly used one is Sphinx. Commenting your code in this\n",
    "    way is a very good practice.\n",
    "\"\"\"\n",
    "    return(x**2 * np.exp(x) - 3.)"
   ]
  },
  {
   "cell_type": "code",
   "execution_count": 7,
   "metadata": {},
   "outputs": [
    {
     "name": "stdout",
     "output_type": "stream",
     "text": [
      "Help on function silly in module __main__:\n",
      "\n",
      "silly(x=None)\n",
      "    A silly function\n",
      "    \n",
      "    Parameters:\n",
      "    ----------\n",
      "    \n",
      "    x : float\n",
      "    \n",
      "    Returns:\n",
      "    -------\n",
      "    \n",
      "    val : float\n",
      "    \n",
      "    Comments:\n",
      "    --------\n",
      "    \n",
      "    Value returned is x^2 * exp(x) - 3.\n",
      "    \n",
      "    This string in the function is what is known as a \"docstring\". \n",
      "    There are a number of packages that will read a Python module\n",
      "    and extract the docstrings to build documentation web pages.\n",
      "    A very commonly used one is Sphinx. Commenting your code in this\n",
      "    way is a very good practice.\n",
      "\n"
     ]
    }
   ],
   "source": [
    "help(silly)"
   ]
  },
  {
   "cell_type": "code",
   "execution_count": 8,
   "metadata": {},
   "outputs": [
    {
     "name": "stdout",
     "output_type": "stream",
     "text": [
      "-0.2817181715409549\n",
      "-3.0\n",
      "-2.6321205588285577\n"
     ]
    }
   ],
   "source": [
    "print(silly(1.))\n",
    "print(silly(0.))\n",
    "print(silly(-1.))"
   ]
  },
  {
   "cell_type": "code",
   "execution_count": 9,
   "metadata": {},
   "outputs": [
    {
     "data": {
      "image/png": "[encoded data removed]",
      "text/plain": [
       "<Figure size 640x480 with 1 Axes>"
      ]
     },
     "metadata": {},
     "output_type": "display_data"
    }
   ],
   "source": [
    "# A basic plot with matplotlib\n",
    "x = np.random.normal(size = 100)\n",
    "y = np.random.normal(size = 100)\n",
    "plt.scatter(x, y, 15, c='black')\n",
    "plt.xlabel('X (m)')\n",
    "plt.ylabel('Y (m)')\n",
    "plt.savefig('scatter.png')"
   ]
  },
  {
   "cell_type": "markdown",
   "metadata": {},
   "source": [
    "## Everything is an Object"
   ]
  },
  {
   "cell_type": "markdown",
   "metadata": {},
   "source": [
    "All \"variables\" in Python are some sort of Object; Python is object-oriented from the ground up. What does this mean? Objects can carry around with them all sorts of information about themselves that makes them very flexible. This can lead to trouble if you are not careful!"
   ]
  },
  {
   "cell_type": "markdown",
   "metadata": {},
   "source": [
    "Objects come in different \"classes\". E.g. there is a \"str\" class, which is used to contain strings.\n",
    "\n",
    "Objects have\n",
    "\n",
    " * Attributes: values that can be set\n",
    " * Methods: functions that can be run \n",
    " "
   ]
  },
  {
   "cell_type": "code",
   "execution_count": 10,
   "metadata": {},
   "outputs": [
    {
     "name": "stdout",
     "output_type": "stream",
     "text": [
      "Help on class str in module builtins:\n",
      "\n",
      "class str(object)\n",
      " |  str(object='') -> str\n",
      " |  str(bytes_or_buffer[, encoding[, errors]]) -> str\n",
      " |  \n",
      " |  Create a new string object from the given object. If encoding or\n",
      " |  errors is specified, then the object must expose a data buffer\n",
      " |  that will be decoded using the given encoding and error handler.\n",
      " |  Otherwise, returns the result of object.__str__() (if defined)\n",
      " |  or repr(object).\n",
      " |  encoding defaults to sys.getdefaultencoding().\n",
      " |  errors defaults to 'strict'.\n",
      " |  \n",
      " |  Methods defined here:\n",
      " |  \n",
      " |  __add__(self, value, /)\n",
      " |      Return self+value.\n",
      " |  \n",
      " |  __contains__(self, key, /)\n",
      " |      Return key in self.\n",
      " |  \n",
      " |  __eq__(self, value, /)\n",
      " |      Return self==value.\n",
      " |  \n",
      " |  __format__(self, format_spec, /)\n",
      " |      Return a formatted version of the string as described by format_spec.\n",
      " |  \n",
      " |  __ge__(self, value, /)\n",
      " |      Return self>=value.\n",
      " |  \n",
      " |  __getattribute__(self, name, /)\n",
      " |      Return getattr(self, name).\n",
      " |  \n",
      " |  __getitem__(self, key, /)\n",
      " |      Return self[key].\n",
      " |  \n",
      " |  __getnewargs__(...)\n",
      " |  \n",
      " |  __gt__(self, value, /)\n",
      " |      Return self>value.\n",
      " |  \n",
      " |  __hash__(self, /)\n",
      " |      Return hash(self).\n",
      " |  \n",
      " |  __iter__(self, /)\n",
      " |      Implement iter(self).\n",
      " |  \n",
      " |  __le__(self, value, /)\n",
      " |      Return self<=value.\n",
      " |  \n",
      " |  __len__(self, /)\n",
      " |      Return len(self).\n",
      " |  \n",
      " |  __lt__(self, value, /)\n",
      " |      Return self<value.\n",
      " |  \n",
      " |  __mod__(self, value, /)\n",
      " |      Return self%value.\n",
      " |  \n",
      " |  __mul__(self, value, /)\n",
      " |      Return self*value.\n",
      " |  \n",
      " |  __ne__(self, value, /)\n",
      " |      Return self!=value.\n",
      " |  \n",
      " |  __repr__(self, /)\n",
      " |      Return repr(self).\n",
      " |  \n",
      " |  __rmod__(self, value, /)\n",
      " |      Return value%self.\n",
      " |  \n",
      " |  __rmul__(self, value, /)\n",
      " |      Return value*self.\n",
      " |  \n",
      " |  __sizeof__(self, /)\n",
      " |      Return the size of the string in memory, in bytes.\n",
      " |  \n",
      " |  __str__(self, /)\n",
      " |      Return str(self).\n",
      " |  \n",
      " |  capitalize(self, /)\n",
      " |      Return a capitalized version of the string.\n",
      " |      \n",
      " |      More specifically, make the first character have upper case and the rest lower\n",
      " |      case.\n",
      " |  \n",
      " |  casefold(self, /)\n",
      " |      Return a version of the string suitable for caseless comparisons.\n",
      " |  \n",
      " |  center(self, width, fillchar=' ', /)\n",
      " |      Return a centered string of length width.\n",
      " |      \n",
      " |      Padding is done using the specified fill character (default is a space).\n",
      " |  \n",
      " |  count(...)\n",
      " |      S.count(sub[, start[, end]]) -> int\n",
      " |      \n",
      " |      Return the number of non-overlapping occurrences of substring sub in\n",
      " |      string S[start:end].  Optional arguments start and end are\n",
      " |      interpreted as in slice notation.\n",
      " |  \n",
      " |  encode(self, /, encoding='utf-8', errors='strict')\n",
      " |      Encode the string using the codec registered for encoding.\n",
      " |      \n",
      " |      encoding\n",
      " |        The encoding in which to encode the string.\n",
      " |      errors\n",
      " |        The error handling scheme to use for encoding errors.\n",
      " |        The default is 'strict' meaning that encoding errors raise a\n",
      " |        UnicodeEncodeError.  Other possible values are 'ignore', 'replace' and\n",
      " |        'xmlcharrefreplace' as well as any other name registered with\n",
      " |        codecs.register_error that can handle UnicodeEncodeErrors.\n",
      " |  \n",
      " |  endswith(...)\n",
      " |      S.endswith(suffix[, start[, end]]) -> bool\n",
      " |      \n",
      " |      Return True if S ends with the specified suffix, False otherwise.\n",
      " |      With optional start, test S beginning at that position.\n",
      " |      With optional end, stop comparing S at that position.\n",
      " |      suffix can also be a tuple of strings to try.\n",
      " |  \n",
      " |  expandtabs(self, /, tabsize=8)\n",
      " |      Return a copy where all tab characters are expanded using spaces.\n",
      " |      \n",
      " |      If tabsize is not given, a tab size of 8 characters is assumed.\n",
      " |  \n",
      " |  find(...)\n",
      " |      S.find(sub[, start[, end]]) -> int\n",
      " |      \n",
      " |      Return the lowest index in S where substring sub is found,\n",
      " |      such that sub is contained within S[start:end].  Optional\n",
      " |      arguments start and end are interpreted as in slice notation.\n",
      " |      \n",
      " |      Return -1 on failure.\n",
      " |  \n",
      " |  format(...)\n",
      " |      S.format(*args, **kwargs) -> str\n",
      " |      \n",
      " |      Return a formatted version of S, using substitutions from args and kwargs.\n",
      " |      The substitutions are identified by braces ('{' and '}').\n",
      " |  \n",
      " |  format_map(...)\n",
      " |      S.format_map(mapping) -> str\n",
      " |      \n",
      " |      Return a formatted version of S, using substitutions from mapping.\n",
      " |      The substitutions are identified by braces ('{' and '}').\n",
      " |  \n",
      " |  index(...)\n",
      " |      S.index(sub[, start[, end]]) -> int\n",
      " |      \n",
      " |      Return the lowest index in S where substring sub is found,\n",
      " |      such that sub is contained within S[start:end].  Optional\n",
      " |      arguments start and end are interpreted as in slice notation.\n",
      " |      \n",
      " |      Raises ValueError when the substring is not found.\n",
      " |  \n",
      " |  isalnum(self, /)\n",
      " |      Return True if the string is an alpha-numeric string, False otherwise.\n",
      " |      \n",
      " |      A string is alpha-numeric if all characters in the string are alpha-numeric and\n",
      " |      there is at least one character in the string.\n",
      " |  \n",
      " |  isalpha(self, /)\n",
      " |      Return True if the string is an alphabetic string, False otherwise.\n",
      " |      \n",
      " |      A string is alphabetic if all characters in the string are alphabetic and there\n",
      " |      is at least one character in the string.\n",
      " |  \n",
      " |  isascii(self, /)\n",
      " |      Return True if all characters in the string are ASCII, False otherwise.\n",
      " |      \n",
      " |      ASCII characters have code points in the range U+0000-U+007F.\n",
      " |      Empty string is ASCII too.\n",
      " |  \n",
      " |  isdecimal(self, /)\n",
      " |      Return True if the string is a decimal string, False otherwise.\n",
      " |      \n",
      " |      A string is a decimal string if all characters in the string are decimal and\n",
      " |      there is at least one character in the string.\n",
      " |  \n",
      " |  isdigit(self, /)\n",
      " |      Return True if the string is a digit string, False otherwise.\n",
      " |      \n",
      " |      A string is a digit string if all characters in the string are digits and there\n",
      " |      is at least one character in the string.\n",
      " |  \n",
      " |  isidentifier(self, /)\n",
      " |      Return True if the string is a valid Python identifier, False otherwise.\n",
      " |      \n",
      " |      Call keyword.iskeyword(s) to test whether string s is a reserved identifier,\n",
      " |      such as \"def\" or \"class\".\n",
      " |  \n",
      " |  islower(self, /)\n",
      " |      Return True if the string is a lowercase string, False otherwise.\n",
      " |      \n",
      " |      A string is lowercase if all cased characters in the string are lowercase and\n",
      " |      there is at least one cased character in the string.\n",
      " |  \n",
      " |  isnumeric(self, /)\n",
      " |      Return True if the string is a numeric string, False otherwise.\n",
      " |      \n",
      " |      A string is numeric if all characters in the string are numeric and there is at\n",
      " |      least one character in the string.\n",
      " |  \n",
      " |  isprintable(self, /)\n",
      " |      Return True if the string is printable, False otherwise.\n",
      " |      \n",
      " |      A string is printable if all of its characters are considered printable in\n",
      " |      repr() or if it is empty.\n",
      " |  \n",
      " |  isspace(self, /)\n",
      " |      Return True if the string is a whitespace string, False otherwise.\n",
      " |      \n",
      " |      A string is whitespace if all characters in the string are whitespace and there\n",
      " |      is at least one character in the string.\n",
      " |  \n",
      " |  istitle(self, /)\n",
      " |      Return True if the string is a title-cased string, False otherwise.\n",
      " |      \n",
      " |      In a title-cased string, upper- and title-case characters may only\n",
      " |      follow uncased characters and lowercase characters only cased ones.\n",
      " |  \n",
      " |  isupper(self, /)\n",
      " |      Return True if the string is an uppercase string, False otherwise.\n",
      " |      \n",
      " |      A string is uppercase if all cased characters in the string are uppercase and\n",
      " |      there is at least one cased character in the string.\n",
      " |  \n",
      " |  join(self, iterable, /)\n",
      " |      Concatenate any number of strings.\n",
      " |      \n",
      " |      The string whose method is called is inserted in between each given string.\n",
      " |      The result is returned as a new string.\n",
      " |      \n",
      " |      Example: '.'.join(['ab', 'pq', 'rs']) -> 'ab.pq.rs'\n",
      " |  \n",
      " |  ljust(self, width, fillchar=' ', /)\n",
      " |      Return a left-justified string of length width.\n",
      " |      \n",
      " |      Padding is done using the specified fill character (default is a space).\n",
      " |  \n",
      " |  lower(self, /)\n",
      " |      Return a copy of the string converted to lowercase.\n",
      " |  \n",
      " |  lstrip(self, chars=None, /)\n",
      " |      Return a copy of the string with leading whitespace removed.\n",
      " |      \n",
      " |      If chars is given and not None, remove characters in chars instead.\n",
      " |  \n",
      " |  partition(self, sep, /)\n",
      " |      Partition the string into three parts using the given separator.\n",
      " |      \n",
      " |      This will search for the separator in the string.  If the separator is found,\n",
      " |      returns a 3-tuple containing the part before the separator, the separator\n",
      " |      itself, and the part after it.\n",
      " |      \n",
      " |      If the separator is not found, returns a 3-tuple containing the original string\n",
      " |      and two empty strings.\n",
      " |  \n",
      " |  replace(self, old, new, count=-1, /)\n",
      " |      Return a copy with all occurrences of substring old replaced by new.\n",
      " |      \n",
      " |        count\n",
      " |          Maximum number of occurrences to replace.\n",
      " |          -1 (the default value) means replace all occurrences.\n",
      " |      \n",
      " |      If the optional argument count is given, only the first count occurrences are\n",
      " |      replaced.\n",
      " |  \n",
      " |  rfind(...)\n",
      " |      S.rfind(sub[, start[, end]]) -> int\n",
      " |      \n",
      " |      Return the highest index in S where substring sub is found,\n",
      " |      such that sub is contained within S[start:end].  Optional\n",
      " |      arguments start and end are interpreted as in slice notation.\n",
      " |      \n",
      " |      Return -1 on failure.\n",
      " |  \n",
      " |  rindex(...)\n",
      " |      S.rindex(sub[, start[, end]]) -> int\n",
      " |      \n",
      " |      Return the highest index in S where substring sub is found,\n",
      " |      such that sub is contained within S[start:end].  Optional\n",
      " |      arguments start and end are interpreted as in slice notation.\n",
      " |      \n",
      " |      Raises ValueError when the substring is not found.\n",
      " |  \n",
      " |  rjust(self, width, fillchar=' ', /)\n",
      " |      Return a right-justified string of length width.\n",
      " |      \n",
      " |      Padding is done using the specified fill character (default is a space).\n",
      " |  \n",
      " |  rpartition(self, sep, /)\n",
      " |      Partition the string into three parts using the given separator.\n",
      " |      \n",
      " |      This will search for the separator in the string, starting at the end. If\n",
      " |      the separator is found, returns a 3-tuple containing the part before the\n",
      " |      separator, the separator itself, and the part after it.\n",
      " |      \n",
      " |      If the separator is not found, returns a 3-tuple containing two empty strings\n",
      " |      and the original string.\n",
      " |  \n",
      " |  rsplit(self, /, sep=None, maxsplit=-1)\n",
      " |      Return a list of the words in the string, using sep as the delimiter string.\n",
      " |      \n",
      " |        sep\n",
      " |          The delimiter according which to split the string.\n",
      " |          None (the default value) means split according to any whitespace,\n",
      " |          and discard empty strings from the result.\n",
      " |        maxsplit\n",
      " |          Maximum number of splits to do.\n",
      " |          -1 (the default value) means no limit.\n",
      " |      \n",
      " |      Splits are done starting at the end of the string and working to the front.\n",
      " |  \n",
      " |  rstrip(self, chars=None, /)\n",
      " |      Return a copy of the string with trailing whitespace removed.\n",
      " |      \n",
      " |      If chars is given and not None, remove characters in chars instead.\n",
      " |  \n",
      " |  split(self, /, sep=None, maxsplit=-1)\n",
      " |      Return a list of the words in the string, using sep as the delimiter string.\n",
      " |      \n",
      " |      sep\n",
      " |        The delimiter according which to split the string.\n",
      " |        None (the default value) means split according to any whitespace,\n",
      " |        and discard empty strings from the result.\n",
      " |      maxsplit\n",
      " |        Maximum number of splits to do.\n",
      " |        -1 (the default value) means no limit.\n",
      " |  \n",
      " |  splitlines(self, /, keepends=False)\n",
      " |      Return a list of the lines in the string, breaking at line boundaries.\n",
      " |      \n",
      " |      Line breaks are not included in the resulting list unless keepends is given and\n",
      " |      true.\n",
      " |  \n",
      " |  startswith(...)\n",
      " |      S.startswith(prefix[, start[, end]]) -> bool\n",
      " |      \n",
      " |      Return True if S starts with the specified prefix, False otherwise.\n",
      " |      With optional start, test S beginning at that position.\n",
      " |      With optional end, stop comparing S at that position.\n",
      " |      prefix can also be a tuple of strings to try.\n",
      " |  \n",
      " |  strip(self, chars=None, /)\n",
      " |      Return a copy of the string with leading and trailing whitespace removed.\n",
      " |      \n",
      " |      If chars is given and not None, remove characters in chars instead.\n",
      " |  \n",
      " |  swapcase(self, /)\n",
      " |      Convert uppercase characters to lowercase and lowercase characters to uppercase.\n",
      " |  \n",
      " |  title(self, /)\n",
      " |      Return a version of the string where each word is titlecased.\n",
      " |      \n",
      " |      More specifically, words start with uppercased characters and all remaining\n",
      " |      cased characters have lower case.\n",
      " |  \n",
      " |  translate(self, table, /)\n",
      " |      Replace each character in the string using the given translation table.\n",
      " |      \n",
      " |        table\n",
      " |          Translation table, which must be a mapping of Unicode ordinals to\n",
      " |          Unicode ordinals, strings, or None.\n",
      " |      \n",
      " |      The table must implement lookup/indexing via __getitem__, for instance a\n",
      " |      dictionary or list.  If this operation raises LookupError, the character is\n",
      " |      left untouched.  Characters mapped to None are deleted.\n",
      " |  \n",
      " |  upper(self, /)\n",
      " |      Return a copy of the string converted to uppercase.\n",
      " |  \n",
      " |  zfill(self, width, /)\n",
      " |      Pad a numeric string with zeros on the left, to fill a field of the given width.\n",
      " |      \n",
      " |      The string is never truncated.\n",
      " |  \n",
      " |  ----------------------------------------------------------------------\n",
      " |  Static methods defined here:\n",
      " |  \n",
      " |  __new__(*args, **kwargs) from builtins.type\n",
      " |      Create and return a new object.  See help(type) for accurate signature.\n",
      " |  \n",
      " |  maketrans(...)\n",
      " |      Return a translation table usable for str.translate().\n",
      " |      \n",
      " |      If there is only one argument, it must be a dictionary mapping Unicode\n",
      " |      ordinals (integers) or characters to Unicode ordinals, strings or None.\n",
      " |      Character keys will be then converted to ordinals.\n",
      " |      If there are two arguments, they must be strings of equal length, and\n",
      " |      in the resulting dictionary, each character in x will be mapped to the\n",
      " |      character at the same position in y. If there is a third argument, it\n",
      " |      must be a string, whose characters will be mapped to None in the result.\n",
      "\n"
     ]
    }
   ],
   "source": [
    "help(\"\")"
   ]
  },
  {
   "cell_type": "markdown",
   "metadata": {},
   "source": [
    "You can define a simple class:"
   ]
  },
  {
   "cell_type": "code",
   "execution_count": 11,
   "metadata": {},
   "outputs": [
    {
     "name": "stdout",
     "output_type": "stream",
     "text": [
      "This example has name Peter and number 899\n",
      "This example has name Lucy and number 7878\n"
     ]
    }
   ],
   "source": [
    "class Example(object): # object is the generic \"superclass\"\n",
    "    \"\"\"Just an example object\n",
    "    \n",
    "    Parameters\n",
    "    ----------\n",
    "    \n",
    "    name : str\n",
    "        Name of this example \n",
    "        \n",
    "    number : np.int32\n",
    "        Number associated with this example \n",
    "    \n",
    "    Attributes\n",
    "    ----------\n",
    "    \n",
    "    name : str\n",
    "        Name of this example \n",
    "        \n",
    "    number : np.int32\n",
    "        Number associated with this example \n",
    "\"\"\"\n",
    "    def __init__(self, name=None, number=None): # \"self\" is the object itself, and is passed in as first argument\n",
    "        self._initialize(name=name, number=number)\n",
    "        # by convention, \"_\" denotes an attribute or method that should not be used outside the \n",
    "        # the class definition (for example, its nature may change in future versions)\n",
    "        self._template = \"This example has name {name} and number {number}\" \n",
    "        return\n",
    "    \n",
    "    def _initialize(self, name=None, number=None):\n",
    "        self.name = str(name)\n",
    "        self.number = np.int32(number)\n",
    "        return\n",
    "    \n",
    "    def identify(self):\n",
    "        \"\"\"Identify this Example object by name and number\"\"\"\n",
    "        print(self._template.format(name=self.name, number=self.number))\n",
    "        return\n",
    "\n",
    "example1 = Example(name=\"Peter\", number=899)\n",
    "example2 = Example(name=\"Lucy\", number=7878)\n",
    "\n",
    "example1.identify()\n",
    "example2.identify()"
   ]
  },
  {
   "cell_type": "markdown",
   "metadata": {},
   "source": [
    "A very common thing to see is the definition of \"subclasses\", which inherit the methods of their superclasses."
   ]
  },
  {
   "cell_type": "code",
   "execution_count": 11,
   "metadata": {},
   "outputs": [
    {
     "name": "stdout",
     "output_type": "stream",
     "text": [
      "This example has the specific name Peter and specific number 899\n",
      "This example has the specific name Lucy and specific number 7878\n"
     ]
    }
   ],
   "source": [
    "class SpecificExample(Example): # Example is the \"superclass\", so Specific Example inherits from it\n",
    "    \"\"\"A specific example object\n",
    "\n",
    "    \n",
    "    Parameters\n",
    "    ----------\n",
    "    \n",
    "    name : str\n",
    "        Name of this example \n",
    "        \n",
    "    number : np.int32\n",
    "        Number associated with this example \n",
    "    \n",
    "    Attributes\n",
    "    ----------\n",
    "    \n",
    "    name : str\n",
    "        Name of this example \n",
    "        \n",
    "    number : np.int32\n",
    "        Number associated with this example \n",
    "\"\"\"\n",
    "    def __init__(self, name=None, number=None):\n",
    "        self._initialize(name=name, number=number)\n",
    "        self._template = \"This example has the specific name {name} and specific number {number}\" \n",
    "        return\n",
    "\n",
    "specificexample1 = SpecificExample(name=\"Peter\", number=899)\n",
    "specificexample2 = SpecificExample(name=\"Lucy\", number=7878)\n",
    "\n",
    "specificexample1.identify()\n",
    "specificexample2.identify()"
   ]
  },
  {
   "cell_type": "markdown",
   "metadata": {},
   "source": [
    "I'm mostly introducing these ideas here because you will see the use of classes and subclasses, and it is important to understand the concepts to use them properly in Python.\n",
    "\n",
    "Defining your own classes can yield very powerful tools. It takes some experience to figure out the sensible choices for how to define classes and subclasses. "
   ]
  },
  {
   "cell_type": "markdown",
   "metadata": {},
   "source": [
    "## Representation of integer numbers"
   ]
  },
  {
   "cell_type": "markdown",
   "metadata": {},
   "source": [
    "The first real important thing you should become aware of in computational physics is the representation of numbers on computers. Here we will explore some examples of this.\n",
    "\n",
    "First, I will define a function to extract the bits from a quantity."
   ]
  },
  {
   "cell_type": "code",
   "execution_count": 12,
   "metadata": {},
   "outputs": [],
   "source": [
    "def get_bits(number):\n",
    "    \"\"\"For a NumPy quantity, return bit representation\n",
    "    \n",
    "    Parameters\n",
    "    ----------\n",
    "    \n",
    "    number : NumPy value\n",
    "        value to convert into list of bits\n",
    "        \n",
    "    Returns\n",
    "    -------\n",
    "    \n",
    "    bits : list\n",
    "       list of 0 and 1 values, highest to lowest significance\n",
    "\"\"\"\n",
    "    bytes = number.tobytes()\n",
    "    bits = []\n",
    "    for byte in bytes:\n",
    "        bits = bits + np.flip(np.unpackbits(np.uint8(byte)), np.uint8(0)).tolist()\n",
    "    return list(reversed(bits))"
   ]
  },
  {
   "cell_type": "markdown",
   "metadata": {},
   "source": [
    "The simplest examples are unsigned 8-bit integers. I will define a NumPy quantity of this type, and then show the bits that express it."
   ]
  },
  {
   "cell_type": "code",
   "execution_count": 13,
   "metadata": {},
   "outputs": [
    {
     "name": "stdout",
     "output_type": "stream",
     "text": [
      "1 decimal -> [0, 0, 0, 0, 0, 0, 0, 1]\n",
      "2 decimal -> [0, 0, 0, 0, 0, 0, 1, 0]\n",
      "5 decimal -> [0, 0, 0, 0, 0, 1, 0, 1]\n",
      "65 decimal -> [0, 1, 0, 0, 0, 0, 0, 1]\n",
      "255 decimal -> [1, 1, 1, 1, 1, 1, 1, 1]\n"
     ]
    }
   ],
   "source": [
    "for value in [1, 2, 5, 65, 255]:\n",
    "    print(\"{value} decimal -> {bitlist}\".format(value=value, bitlist=str(get_bits(np.uint8(value)))))"
   ]
  },
  {
   "cell_type": "markdown",
   "metadata": {},
   "source": [
    "We can see what happens if you increment a value past 255 for an 8-bit integer. It is important to remember that the integers have a limited range when expressed this way (though it is a much larger range for 32- or 64-bit integers)! In Python, a warning is issued when this happens, but this does not happen in all computing environments!"
   ]
  },
  {
   "cell_type": "code",
   "execution_count": 14,
   "metadata": {},
   "outputs": [
    {
     "name": "stdout",
     "output_type": "stream",
     "text": [
      "250 in decimal -> [1, 1, 1, 1, 1, 0, 1, 0]\n",
      "251 in decimal -> [1, 1, 1, 1, 1, 0, 1, 1]\n",
      "252 in decimal -> [1, 1, 1, 1, 1, 1, 0, 0]\n",
      "253 in decimal -> [1, 1, 1, 1, 1, 1, 0, 1]\n",
      "254 in decimal -> [1, 1, 1, 1, 1, 1, 1, 0]\n",
      "255 in decimal -> [1, 1, 1, 1, 1, 1, 1, 1]\n",
      "0 in decimal -> [0, 0, 0, 0, 0, 0, 0, 0]\n",
      "1 in decimal -> [0, 0, 0, 0, 0, 0, 0, 1]\n",
      "2 in decimal -> [0, 0, 0, 0, 0, 0, 1, 0]\n",
      "3 in decimal -> [0, 0, 0, 0, 0, 0, 1, 1]\n"
     ]
    },
    {
     "name": "stderr",
     "output_type": "stream",
     "text": [
      "/tmp/ipykernel_551173/3105002815.py:4: RuntimeWarning: overflow encountered in scalar add\n",
      "  value = value + np.uint8(1)\n"
     ]
    }
   ],
   "source": [
    "value = np.uint8(250)\n",
    "for indx in np.arange(10):\n",
    "    print(\"{value} in decimal -> {bitlist}\".format(value=value, bitlist=str(get_bits(np.uint8(value)))))\n",
    "    value = value + np.uint8(1)"
   ]
  },
  {
   "cell_type": "markdown",
   "metadata": {},
   "source": [
    "For a signed integer, the upper half of the range is remapped to the negative numbers."
   ]
  },
  {
   "cell_type": "code",
   "execution_count": 15,
   "metadata": {},
   "outputs": [
    {
     "name": "stdout",
     "output_type": "stream",
     "text": [
      "-128 decimal -> [1, 0, 0, 0, 0, 0, 0, 0]\n",
      "-127 decimal -> [1, 0, 0, 0, 0, 0, 0, 1]\n",
      "-2 decimal -> [1, 1, 1, 1, 1, 1, 1, 0]\n",
      "-1 decimal -> [1, 1, 1, 1, 1, 1, 1, 1]\n",
      "0 decimal -> [0, 0, 0, 0, 0, 0, 0, 0]\n",
      "1 decimal -> [0, 0, 0, 0, 0, 0, 0, 1]\n",
      "127 decimal -> [0, 1, 1, 1, 1, 1, 1, 1]\n"
     ]
    }
   ],
   "source": [
    "for value in [-128, -127, -2, -1, 0, 1, 127]:\n",
    "    print(\"{value} decimal -> {bitlist}\".format(value=value, bitlist=str(get_bits(np.int8(value)))))"
   ]
  },
  {
   "cell_type": "markdown",
   "metadata": {},
   "source": [
    "So you can see what happens now when you roll around 127 (instead of 255 as in the unsigned case)."
   ]
  },
  {
   "cell_type": "code",
   "execution_count": 16,
   "metadata": {},
   "outputs": [
    {
     "name": "stdout",
     "output_type": "stream",
     "text": [
      "124 in decimal -> [0, 1, 1, 1, 1, 1, 0, 0]\n",
      "125 in decimal -> [0, 1, 1, 1, 1, 1, 0, 1]\n",
      "126 in decimal -> [0, 1, 1, 1, 1, 1, 1, 0]\n",
      "127 in decimal -> [0, 1, 1, 1, 1, 1, 1, 1]\n",
      "-128 in decimal -> [1, 0, 0, 0, 0, 0, 0, 0]\n",
      "-127 in decimal -> [1, 0, 0, 0, 0, 0, 0, 1]\n",
      "-126 in decimal -> [1, 0, 0, 0, 0, 0, 1, 0]\n",
      "-125 in decimal -> [1, 0, 0, 0, 0, 0, 1, 1]\n",
      "-124 in decimal -> [1, 0, 0, 0, 0, 1, 0, 0]\n",
      "-123 in decimal -> [1, 0, 0, 0, 0, 1, 0, 1]\n"
     ]
    },
    {
     "name": "stderr",
     "output_type": "stream",
     "text": [
      "/tmp/ipykernel_551173/777199071.py:4: RuntimeWarning: overflow encountered in scalar add\n",
      "  value = value + np.int8(1)\n"
     ]
    }
   ],
   "source": [
    "value = np.int8(124)\n",
    "for indx in np.arange(10):\n",
    "    print(\"{value} in decimal -> {bitlist}\".format(value=value, bitlist=str(get_bits(np.int8(value)))))\n",
    "    value = value + np.int8(1)"
   ]
  },
  {
   "cell_type": "markdown",
   "metadata": {},
   "source": [
    "These days, usually the default integer value is 32-bits, which covers most (but not all!) cases of interest. It's maximum value in the signed case is $2^{31}-1 = 2147483647$, which is just over 2 billion. Definitely astronomers and physicists use catalogs with that many entries so need integers larger than that! Here are some examples."
   ]
  },
  {
   "cell_type": "code",
   "execution_count": 17,
   "metadata": {},
   "outputs": [
    {
     "name": "stdout",
     "output_type": "stream",
     "text": [
      "-10000000 decimal -> [1, 1, 1, 1, 1, 1, 1, 1, 0, 1, 1, 0, 0, 1, 1, 1, 0, 1, 1, 0, 1, 0, 0, 1, 1, 0, 0, 0, 0, 0, 0, 0]\n",
      "-2 decimal -> [1, 1, 1, 1, 1, 1, 1, 1, 1, 1, 1, 1, 1, 1, 1, 1, 1, 1, 1, 1, 1, 1, 1, 1, 1, 1, 1, 1, 1, 1, 1, 0]\n",
      "1 decimal -> [0, 0, 0, 0, 0, 0, 0, 0, 0, 0, 0, 0, 0, 0, 0, 0, 0, 0, 0, 0, 0, 0, 0, 0, 0, 0, 0, 0, 0, 0, 0, 1]\n",
      "200000 decimal -> [0, 0, 0, 0, 0, 0, 0, 0, 0, 0, 0, 0, 0, 0, 1, 1, 0, 0, 0, 0, 1, 1, 0, 1, 0, 1, 0, 0, 0, 0, 0, 0]\n"
     ]
    }
   ],
   "source": [
    "for value in [-10000000, -2, 1, 200000]:\n",
    "    print(\"{value} decimal -> {bitlist}\".format(value=value, bitlist=str(get_bits(np.int32(value)))))"
   ]
  },
  {
   "cell_type": "markdown",
   "metadata": {
    "collapsed": true
   },
   "source": [
    "## Representation of floating point numbers"
   ]
  },
  {
   "cell_type": "code",
   "execution_count": 18,
   "metadata": {},
   "outputs": [
    {
     "name": "stdout",
     "output_type": "stream",
     "text": [
      "0.0 decimal ->\n",
      "       sign = 0 \n",
      "       exponent = [0, 0, 0, 0, 0, 0, 0, 0] \n",
      "       mantissa = [0, 0, 0, 0, 0, 0, 0, 0, 0, 0, 0, 0, 0, 0, 0, 0, 0, 0, 0, 0, 0, 0, 0]\n",
      "1.0 decimal ->\n",
      "       sign = 0 \n",
      "       exponent = [0, 1, 1, 1, 1, 1, 1, 1] \n",
      "       mantissa = [0, 0, 0, 0, 0, 0, 0, 0, 0, 0, 0, 0, 0, 0, 0, 0, 0, 0, 0, 0, 0, 0, 0]\n",
      "1.5 decimal ->\n",
      "       sign = 0 \n",
      "       exponent = [0, 1, 1, 1, 1, 1, 1, 1] \n",
      "       mantissa = [1, 0, 0, 0, 0, 0, 0, 0, 0, 0, 0, 0, 0, 0, 0, 0, 0, 0, 0, 0, 0, 0, 0]\n",
      "2.0 decimal ->\n",
      "       sign = 0 \n",
      "       exponent = [1, 0, 0, 0, 0, 0, 0, 0] \n",
      "       mantissa = [0, 0, 0, 0, 0, 0, 0, 0, 0, 0, 0, 0, 0, 0, 0, 0, 0, 0, 0, 0, 0, 0, 0]\n",
      "5000.0 decimal ->\n",
      "       sign = 0 \n",
      "       exponent = [1, 0, 0, 0, 1, 0, 1, 1] \n",
      "       mantissa = [0, 0, 1, 1, 1, 0, 0, 0, 1, 0, 0, 0, 0, 0, 0, 0, 0, 0, 0, 0, 0, 0, 0]\n",
      "-5000.0 decimal ->\n",
      "       sign = 1 \n",
      "       exponent = [1, 0, 0, 0, 1, 0, 1, 1] \n",
      "       mantissa = [0, 0, 1, 1, 1, 0, 0, 0, 1, 0, 0, 0, 0, 0, 0, 0, 0, 0, 0, 0, 0, 0, 0]\n",
      "1.4e-45 decimal ->\n",
      "       sign = 0 \n",
      "       exponent = [0, 0, 0, 0, 0, 0, 0, 0] \n",
      "       mantissa = [0, 0, 0, 0, 0, 0, 0, 0, 0, 0, 0, 0, 0, 0, 0, 0, 0, 0, 0, 0, 0, 0, 1]\n",
      "3.40055e+38 decimal ->\n",
      "       sign = 0 \n",
      "       exponent = [1, 1, 1, 1, 1, 1, 1, 0] \n",
      "       mantissa = [1, 1, 1, 1, 1, 1, 1, 1, 1, 0, 1, 0, 1, 0, 0, 0, 0, 1, 1, 0, 1, 1, 0]\n",
      "1e+100 decimal ->\n",
      "       sign = 0 \n",
      "       exponent = [1, 1, 1, 1, 1, 1, 1, 1] \n",
      "       mantissa = [0, 0, 0, 0, 0, 0, 0, 0, 0, 0, 0, 0, 0, 0, 0, 0, 0, 0, 0, 0, 0, 0, 0]\n"
     ]
    },
    {
     "name": "stderr",
     "output_type": "stream",
     "text": [
      "/tmp/ipykernel_551173/2466061547.py:2: RuntimeWarning: overflow encountered in cast\n",
      "  bitlist=get_bits(np.float32(value))\n"
     ]
    }
   ],
   "source": [
    "for value in [0., 1., 1.5, 2., 5000., - 5000., 1.4e-45, 3.40055e+38, 1.e+100]:\n",
    "    bitlist=get_bits(np.float32(value))\n",
    "    sign = bitlist[0]\n",
    "    exponent = bitlist[1:9]\n",
    "    mantissa = bitlist[9:32]\n",
    "    template = \"\"\"{value} decimal ->\n",
    "       sign = {sign} \n",
    "       exponent = {exponent} \n",
    "       mantissa = {mantissa}\"\"\"\n",
    "    print(template.format(value=value, sign=sign, exponent=exponent, mantissa=mantissa))"
   ]
  },
  {
   "cell_type": "code",
   "execution_count": 19,
   "metadata": {},
   "outputs": [
    {
     "name": "stdout",
     "output_type": "stream",
     "text": [
      "Exponent of 1.0: [0, 1, 1, 1, 1, 1, 1, 1] --> 0\n",
      "Mantissa of 1.0: [0, 0, 0, 0, 0, 0, 0, 0, 0, 0, 0, 0, 0, 0, 0, 0, 0, 0, 0, 0, 0, 0, 0]\n",
      "Exponent of 9.99999993922529e-09: [0, 1, 1, 0, 0, 1, 0, 0] --> -27\n",
      "Mantissa of 9.99999993922529e-09: [0, 1, 0, 1, 0, 1, 1, 1, 1, 0, 0, 1, 1, 0, 0, 0, 1, 1, 1, 0, 1, 1, 1]\n"
     ]
    }
   ],
   "source": [
    "value_big = np.float32(1.)\n",
    "value_small = np.float32(1.e-8)\n",
    "bitlist = get_bits(np.float32(value_big))\n",
    "e10 = np.array([ ee * 2**(7-indx) for indx, ee in zip(range(8), bitlist[1:9])], dtype=np.int32).sum() - 127\n",
    "print(\"Exponent of {value}: {exponent} --> {e10}\".format(value=value_big, exponent=bitlist[1:9], e10=e10))\n",
    "print(\"Mantissa of {value}: {mantissa}\".format(value=value_big, mantissa=bitlist[9:]))\n",
    "bitlist = get_bits(np.float32(value_small))\n",
    "e10 = np.array([ ee * 2**(7-indx) for indx, ee in zip(range(8), bitlist[1:9])], dtype=np.int32).sum() - 127\n",
    "print(\"Exponent of {value}: {exponent} --> {e10}\".format(value=value_small, exponent=bitlist[1:9], e10=e10))\n",
    "print(\"Mantissa of {value}: {mantissa}\".format(value=value_small, mantissa=bitlist[9:]))"
   ]
  },
  {
   "cell_type": "markdown",
   "metadata": {},
   "source": [
    "In adding these two numbers, the computer needs to make the exponents the same. So it shifts the mantissa of 1.e-8 to the right.\n",
    "\n",
    "The number 1e-8, originally expressed as:\n",
    "\n",
    " * exponent [0, 1, 1, 0, 0, 1, 0, 0] -> (-27) \n",
    " * mantissa [0, 1, 0, 1, 0, 1, 1, 1, 1, 0, 0, 1, 1, 0, 0, 0, 1, 1, 1, 0, 1, 1, 1] \n",
    " \n",
    "becomes as follows:\n",
    "\n",
    " * exponent [0, 1, 1, 0, 0, 1, 0, 1] -> (-26)\n",
    " * mantissa [0, 0, 1, 0, 1, 0, 1, 1, 1, 1, 0, 0, 1, 1, 0, 0, 0, 1, 1, 1, 0, 1, 1]\n",
    " \n",
    "Note that this is a lower precision way to express 1.e-8, because you have lost the last bit (of relative importance of $2^{-23} \\sim 10^{-7}$). So no matter how far you have to shift the bits, you always lose some precision from doing so.\n",
    "\n",
    "In this case, shifting continues until the exponent is the same as for 1.0 (i.e. 0). But that requires shifting 27 bits to the right, and the mantissa only has 23 bits. So it is completely zeroed out. So adding the resulting mantissa to that of 1.0 results in no change.\n",
    "\n",
    "And indeed:"
   ]
  },
  {
   "cell_type": "code",
   "execution_count": 20,
   "metadata": {},
   "outputs": [
    {
     "name": "stdout",
     "output_type": "stream",
     "text": [
      "Exponent of 1.0: [0, 1, 1, 1, 1, 1, 1, 1] --> 0\n",
      "Mantissa of 1.0: [0, 0, 0, 0, 0, 0, 0, 0, 0, 0, 0, 0, 0, 0, 0, 0, 0, 0, 0, 0, 0, 0, 0]\n"
     ]
    }
   ],
   "source": [
    "value = value_big + value_small\n",
    "bitlist = get_bits(np.float32(value))\n",
    "e10 = np.array([ ee * 2**(7-indx) for indx, ee in zip(range(8), bitlist[1:9])], dtype=np.int32).sum() - 127\n",
    "print(\"Exponent of {value}: {exponent} --> {e10}\".format(value=value, exponent=bitlist[1:9], e10=e10))\n",
    "print(\"Mantissa of {value}: {mantissa}\".format(value=value, mantissa=bitlist[9:]))"
   ]
  },
  {
   "cell_type": "markdown",
   "metadata": {},
   "source": [
    "These considerations have important effects on how the computer should calculate things to keep them stable against this truncation error. A simple example is just adding up a bunch of small numbers:"
   ]
  },
  {
   "cell_type": "code",
   "execution_count": 21,
   "metadata": {},
   "outputs": [
    {
     "name": "stdout",
     "output_type": "stream",
     "text": [
      "0.25\n"
     ]
    }
   ],
   "source": [
    "# Here is a dumb way to add up a bunch of numbers that are supposed to add to unity.\n",
    "f = np.float32(0.)\n",
    "incr = np.float32(1.e-8)\n",
    "for i in np.arange(100000000):\n",
    "    f = f + incr\n",
    "print(f)"
   ]
  },
  {
   "cell_type": "code",
   "execution_count": 22,
   "metadata": {},
   "outputs": [
    {
     "name": "stdout",
     "output_type": "stream",
     "text": [
      "1.0000000022898672\n"
     ]
    }
   ],
   "source": [
    "# This is just as dumb but because it is working at 64-bit precision works out OK.\n",
    "f = np.float64(0.)\n",
    "incr = np.float64(1.e-8)\n",
    "for i in np.arange(100000000):\n",
    "    f = f + incr\n",
    "print(f)"
   ]
  },
  {
   "cell_type": "code",
   "execution_count": 23,
   "metadata": {},
   "outputs": [
    {
     "name": "stdout",
     "output_type": "stream",
     "text": [
      "-0.00011271238327026367\n",
      "-2.000621890374532e-13\n"
     ]
    }
   ],
   "source": [
    "# Note that NumPy must do something smarter with its array method sum()!\n",
    "incrs = np.ones(100000000, dtype=np.float32) * np.float32(1.e-8)\n",
    "print(incrs.sum() - 1.)\n",
    "\n",
    "incrs = np.ones(100000000, dtype=np.float64) * np.float64(1.e-8)\n",
    "print(incrs.sum() - 1.)"
   ]
  },
  {
   "cell_type": "markdown",
   "metadata": {},
   "source": [
    "You should also note that the NumPy method is faster. This is because this is programmed closer to machine level. Generally if something requires a Python loop or conditionals, it is going to be slower than using internal methods. This is the price of using a higher level language like Python."
   ]
  },
  {
   "cell_type": "code",
   "execution_count": null,
   "metadata": {
    "collapsed": true
   },
   "outputs": [],
   "source": []
  }
 ],
 "metadata": {
  "kernelspec": {
   "display_name": "Python 3 (ipykernel)",
   "language": "python",
   "name": "python3"
  },
  "language_info": {
   "codemirror_mode": {
    "name": "ipython",
    "version": 3
   },
   "file_extension": ".py",
   "mimetype": "text/x-python",
   "name": "python",
   "nbconvert_exporter": "python",
   "pygments_lexer": "ipython3",
   "version": "3.8.17"
  }
 },
 "nbformat": 4,
 "nbformat_minor": 2
}
