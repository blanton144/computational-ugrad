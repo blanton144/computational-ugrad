{
 "cells": [
  {
   "cell_type": "code",
   "execution_count": 1,
   "metadata": {},
   "outputs": [],
   "source": [
    "%matplotlib inline\n",
    "import matplotlib.pyplot as plt\n",
    "import numpy as np"
   ]
  },
  {
   "cell_type": "markdown",
   "metadata": {},
   "source": [
    "## Making an array in Numpy"
   ]
  },
  {
   "cell_type": "markdown",
   "metadata": {},
   "source": [
    "Make a simple array of zeros. This returns an object of class \"ndarray\"."
   ]
  },
  {
   "cell_type": "code",
   "execution_count": 3,
   "metadata": {},
   "outputs": [
    {
     "name": "stdout",
     "output_type": "stream",
     "text": [
      "[0 0 0 0 0 0 0 0 0 0 0 0 0 0 0 0 0 0 0 0 0 0 0 0 0 0 0 0 0 0 0 0 0 0 0 0 0\n",
      " 0 0 0 0 0 0 0 0 0 0 0 0 0 0 0 0 0 0 0 0 0 0 0 0 0 0 0 0 0 0 0 0 0 0 0 0 0\n",
      " 0 0 0 0 0 0 0 0 0 0 0 0 0 0 0 0 0 0 0 0 0 0 0 0 0 0]\n"
     ]
    }
   ],
   "source": [
    "a = np.zeros(100, dtype=np.int32)\n",
    "print(a)"
   ]
  },
  {
   "cell_type": "code",
   "execution_count": 7,
   "metadata": {},
   "outputs": [
    {
     "name": "stdout",
     "output_type": "stream",
     "text": [
      "[10. 12. 14.]\n"
     ]
    }
   ],
   "source": [
    "print(np.arange(10, 15, 2, dtype=np.float32))"
   ]
  },
  {
   "cell_type": "code",
   "execution_count": 8,
   "metadata": {},
   "outputs": [
    {
     "name": "stdout",
     "output_type": "stream",
     "text": [
      "[5. 4. 3. 2. 1.]\n"
     ]
    }
   ],
   "source": [
    "b = np.array([5., 4., 3], dtype=np.float32)\n",
    "c = np.array([2., 1.], dtype=np.float32)\n",
    "d = np.append(b, c)\n",
    "print(d)"
   ]
  },
  {
   "cell_type": "code",
   "execution_count": 10,
   "metadata": {},
   "outputs": [],
   "source": [
    "def func():\n",
    "    blah = np.zeros(100000)\n",
    "    return"
   ]
  },
  {
   "cell_type": "markdown",
   "metadata": {},
   "source": [
    "Check size (number of elements) and number of bytes per element."
   ]
  },
  {
   "cell_type": "code",
   "execution_count": 11,
   "metadata": {},
   "outputs": [
    {
     "name": "stdout",
     "output_type": "stream",
     "text": [
      "100\n",
      "4\n"
     ]
    }
   ],
   "source": [
    "print(a.size)\n",
    "print(a.itemsize)"
   ]
  },
  {
   "cell_type": "markdown",
   "metadata": {},
   "source": [
    "64-bit quantities of course take more memory per element."
   ]
  },
  {
   "cell_type": "code",
   "execution_count": 12,
   "metadata": {},
   "outputs": [
    {
     "name": "stdout",
     "output_type": "stream",
     "text": [
      "8\n"
     ]
    }
   ],
   "source": [
    "a = np.zeros(100, dtype=np.float64)\n",
    "print(a.itemsize)"
   ]
  },
  {
   "cell_type": "markdown",
   "metadata": {},
   "source": [
    "Make an array of ones, this time with a floating point data type."
   ]
  },
  {
   "cell_type": "code",
   "execution_count": 13,
   "metadata": {},
   "outputs": [
    {
     "name": "stdout",
     "output_type": "stream",
     "text": [
      "[1. 1. 1. 1. 1. 1. 1. 1. 1. 1. 1. 1. 1. 1. 1. 1. 1. 1. 1. 1. 1. 1. 1. 1.\n",
      " 1. 1. 1. 1. 1. 1. 1. 1. 1. 1. 1. 1. 1. 1. 1. 1. 1. 1. 1. 1. 1. 1. 1. 1.\n",
      " 1. 1. 1. 1. 1. 1. 1. 1. 1. 1. 1. 1. 1. 1. 1. 1. 1. 1. 1. 1. 1. 1. 1. 1.\n",
      " 1. 1. 1. 1. 1. 1. 1. 1. 1. 1. 1. 1. 1. 1. 1. 1. 1. 1. 1. 1. 1. 1. 1. 1.\n",
      " 1. 1. 1. 1.]\n"
     ]
    }
   ],
   "source": [
    "a = np.ones(100, dtype=np.float32)\n",
    "print(a)"
   ]
  },
  {
   "cell_type": "markdown",
   "metadata": {},
   "source": [
    "Make an array with an increasing sequence of numbers."
   ]
  },
  {
   "cell_type": "code",
   "execution_count": 14,
   "metadata": {},
   "outputs": [
    {
     "name": "stdout",
     "output_type": "stream",
     "text": [
      "[ 0  1  2  3  4  5  6  7  8  9 10 11 12 13 14 15 16 17 18 19 20 21 22 23\n",
      " 24 25 26 27 28 29 30 31 32 33 34 35 36 37 38 39 40 41 42 43 44 45 46 47\n",
      " 48 49 50 51 52 53 54 55 56 57 58 59 60 61 62 63 64 65 66 67 68 69 70 71\n",
      " 72 73 74 75 76 77 78 79 80 81 82 83 84 85 86 87 88 89 90 91 92 93 94 95\n",
      " 96 97 98 99]\n"
     ]
    }
   ],
   "source": [
    "a = np.arange(100, dtype=np.int32)\n",
    "print(a)"
   ]
  },
  {
   "cell_type": "markdown",
   "metadata": {},
   "source": [
    "Reference different elements of the array."
   ]
  },
  {
   "cell_type": "code",
   "execution_count": 15,
   "metadata": {},
   "outputs": [
    {
     "name": "stdout",
     "output_type": "stream",
     "text": [
      "0\n"
     ]
    }
   ],
   "source": [
    "print(a[0])"
   ]
  },
  {
   "cell_type": "code",
   "execution_count": 16,
   "metadata": {},
   "outputs": [
    {
     "name": "stdout",
     "output_type": "stream",
     "text": [
      "50\n"
     ]
    }
   ],
   "source": [
    "print(a[50])"
   ]
  },
  {
   "cell_type": "markdown",
   "metadata": {},
   "source": [
    "Reference a range of elements. Note oddity that it is a[first:last+1]."
   ]
  },
  {
   "cell_type": "code",
   "execution_count": 17,
   "metadata": {},
   "outputs": [
    {
     "name": "stdout",
     "output_type": "stream",
     "text": [
      "[2 3 4]\n"
     ]
    }
   ],
   "source": [
    "print(a[2:5])"
   ]
  },
  {
   "cell_type": "markdown",
   "metadata": {},
   "source": [
    "Can use shortcuts to reference to end of array."
   ]
  },
  {
   "cell_type": "code",
   "execution_count": 19,
   "metadata": {},
   "outputs": [
    {
     "name": "stdout",
     "output_type": "stream",
     "text": [
      "[90 91 92 93 94 95 96 97 98 99]\n"
     ]
    }
   ],
   "source": [
    "print(a[90:])"
   ]
  },
  {
   "cell_type": "code",
   "execution_count": 20,
   "metadata": {},
   "outputs": [
    {
     "name": "stdout",
     "output_type": "stream",
     "text": [
      "[10 12 14 16 18 20 22 24 26 28]\n"
     ]
    }
   ],
   "source": [
    "print(a[10:30:2])"
   ]
  },
  {
   "cell_type": "markdown",
   "metadata": {},
   "source": [
    "Can add (or multiple, divide, etc) two arrays of the same size:"
   ]
  },
  {
   "cell_type": "code",
   "execution_count": 21,
   "metadata": {},
   "outputs": [],
   "source": [
    "a = np.ones(10, dtype=np.float32) * 2\n",
    "b = np.ones(10, dtype=np.float32)"
   ]
  },
  {
   "cell_type": "code",
   "execution_count": 23,
   "metadata": {},
   "outputs": [
    {
     "name": "stdout",
     "output_type": "stream",
     "text": [
      "[2. 2. 2. 2. 2. 2. 2. 2. 2. 2.]\n"
     ]
    }
   ],
   "source": [
    "print(a)"
   ]
  },
  {
   "cell_type": "code",
   "execution_count": 24,
   "metadata": {},
   "outputs": [
    {
     "name": "stdout",
     "output_type": "stream",
     "text": [
      "[1. 1. 1. 1. 1. 1. 1. 1. 1. 1.]\n"
     ]
    }
   ],
   "source": [
    "print(b)"
   ]
  },
  {
   "cell_type": "code",
   "execution_count": 25,
   "metadata": {},
   "outputs": [
    {
     "name": "stdout",
     "output_type": "stream",
     "text": [
      "[2. 2. 2. 2. 2. 2. 2. 2. 2. 2.]\n"
     ]
    }
   ],
   "source": [
    "print(a * b)"
   ]
  },
  {
   "cell_type": "code",
   "execution_count": 26,
   "metadata": {},
   "outputs": [
    {
     "name": "stdout",
     "output_type": "stream",
     "text": [
      "[3. 3. 3. 3. 3. 3. 3. 3. 3. 3.]\n"
     ]
    }
   ],
   "source": [
    "print(a + b)"
   ]
  },
  {
   "cell_type": "code",
   "execution_count": 27,
   "metadata": {},
   "outputs": [
    {
     "name": "stdout",
     "output_type": "stream",
     "text": [
      "[0.5 0.5 0.5 0.5 0.5 0.5 0.5 0.5 0.5 0.5]\n"
     ]
    }
   ],
   "source": [
    "print(b / a)"
   ]
  },
  {
   "cell_type": "markdown",
   "metadata": {},
   "source": [
    "## Multidimensional arrays"
   ]
  },
  {
   "cell_type": "markdown",
   "metadata": {},
   "source": [
    "We can define a multidimensional array as well. We pass NumPy a \"tuple\" containing the array dimensions that we want."
   ]
  },
  {
   "cell_type": "code",
   "execution_count": 29,
   "metadata": {},
   "outputs": [],
   "source": [
    "a = np.ones((12, 4), dtype=np.int32)"
   ]
  },
  {
   "cell_type": "markdown",
   "metadata": {},
   "source": [
    "Note that if I print the array, the first index tells me which \"row\" I am looking at, and the second which \"column.\" This is a convention choice in NumPy."
   ]
  },
  {
   "cell_type": "code",
   "execution_count": 30,
   "metadata": {},
   "outputs": [
    {
     "name": "stdout",
     "output_type": "stream",
     "text": [
      "[[1 1 1 1]\n",
      " [1 1 1 1]\n",
      " [1 1 1 1]\n",
      " [1 1 1 1]\n",
      " [1 1 1 1]\n",
      " [1 1 1 1]\n",
      " [1 1 1 1]\n",
      " [1 1 1 1]\n",
      " [1 1 1 1]\n",
      " [1 1 1 1]\n",
      " [1 1 1 1]\n",
      " [1 1 1 1]]\n"
     ]
    }
   ],
   "source": [
    "print(a)"
   ]
  },
  {
   "cell_type": "markdown",
   "metadata": {},
   "source": [
    "I can convert the array to a 1D array by \"flattening\" it:"
   ]
  },
  {
   "cell_type": "code",
   "execution_count": 31,
   "metadata": {},
   "outputs": [
    {
     "name": "stdout",
     "output_type": "stream",
     "text": [
      "[1 1 1 1 1 1 1 1 1 1 1 1 1 1 1 1 1 1 1 1 1 1 1 1 1 1 1 1 1 1 1 1 1 1 1 1 1\n",
      " 1 1 1 1 1 1 1 1 1 1 1]\n"
     ]
    }
   ],
   "source": [
    "aflat = a.flatten()\n",
    "print(aflat)"
   ]
  },
  {
   "cell_type": "markdown",
   "metadata": {},
   "source": [
    "We can see below how the array is stored in memory by looking at a flattened array:"
   ]
  },
  {
   "cell_type": "code",
   "execution_count": 32,
   "metadata": {},
   "outputs": [
    {
     "name": "stdout",
     "output_type": "stream",
     "text": [
      "[[1 1 1 1]\n",
      " [1 1 1 1]\n",
      " [1 1 1 2]\n",
      " [1 1 1 1]\n",
      " [1 1 1 1]\n",
      " [1 1 1 1]\n",
      " [1 1 1 1]\n",
      " [1 1 1 1]\n",
      " [1 1 1 1]\n",
      " [1 1 1 1]\n",
      " [1 1 1 1]\n",
      " [1 1 1 1]]\n"
     ]
    }
   ],
   "source": [
    "a[2, 3] = 2\n",
    "print(a)"
   ]
  },
  {
   "cell_type": "markdown",
   "metadata": {},
   "source": [
    "This test reveals that the array is stored as the first row, then the second row, then the third, etc."
   ]
  },
  {
   "cell_type": "code",
   "execution_count": 33,
   "metadata": {},
   "outputs": [
    {
     "name": "stdout",
     "output_type": "stream",
     "text": [
      "[1 1 1 1 1 1 1 1 1 1 1 2 1 1 1 1 1 1 1 1 1 1 1 1 1 1 1 1 1 1 1 1 1 1 1 1 1\n",
      " 1 1 1 1 1 1 1 1 1 1 1]\n"
     ]
    }
   ],
   "source": [
    "aflat = a.flatten()\n",
    "print(aflat)"
   ]
  },
  {
   "cell_type": "code",
   "execution_count": 34,
   "metadata": {},
   "outputs": [
    {
     "name": "stdout",
     "output_type": "stream",
     "text": [
      "[[1 1 1 1 1 1 1 1]\n",
      " [1 1 1 2 1 1 1 1]\n",
      " [1 1 1 1 1 1 1 1]\n",
      " [1 1 1 1 1 1 1 1]\n",
      " [1 1 1 1 1 1 1 1]\n",
      " [1 1 1 1 1 1 1 1]]\n"
     ]
    }
   ],
   "source": [
    "print(aflat.reshape((6,8)))"
   ]
  },
  {
   "cell_type": "markdown",
   "metadata": {},
   "source": [
    "A more reliable way to determine this is to ask the object about the length (in bytes) of the \"stride\" it takes in memory in each dimension. In this case, each row increment is 4 4-byte numbers, so 16 bytes, and each column increment is 1 4-byte number, so 4 bytes."
   ]
  },
  {
   "cell_type": "code",
   "execution_count": 35,
   "metadata": {},
   "outputs": [
    {
     "name": "stdout",
     "output_type": "stream",
     "text": [
      "(16, 4)\n"
     ]
    }
   ],
   "source": [
    "print(a.strides)"
   ]
  },
  {
   "cell_type": "markdown",
   "metadata": {},
   "source": [
    "Another example:"
   ]
  },
  {
   "cell_type": "code",
   "execution_count": 26,
   "metadata": {},
   "outputs": [
    {
     "name": "stdout",
     "output_type": "stream",
     "text": [
      "(160, 8)\n"
     ]
    }
   ],
   "source": [
    "b = np.zeros((10, 20))\n",
    "print(b.strides)"
   ]
  },
  {
   "cell_type": "code",
   "execution_count": 27,
   "metadata": {},
   "outputs": [],
   "source": [
    "b?"
   ]
  },
  {
   "cell_type": "markdown",
   "metadata": {},
   "source": [
    "Difference between NumPy arrays and Python lists:"
   ]
  },
  {
   "cell_type": "code",
   "execution_count": 36,
   "metadata": {},
   "outputs": [],
   "source": [
    "mylist = ['a', b, 78., 78, func]"
   ]
  },
  {
   "cell_type": "code",
   "execution_count": 37,
   "metadata": {},
   "outputs": [
    {
     "name": "stdout",
     "output_type": "stream",
     "text": [
      "['a', array([1., 1., 1., 1., 1., 1., 1., 1., 1., 1.], dtype=float32), 78.0, 78, <function func at 0x7f9a377acc10>]\n"
     ]
    }
   ],
   "source": [
    "print(mylist)"
   ]
  },
  {
   "cell_type": "code",
   "execution_count": 38,
   "metadata": {},
   "outputs": [
    {
     "name": "stdout",
     "output_type": "stream",
     "text": [
      "[1.0, 1.0, 1.0, 3.0]\n",
      "[1. 1. 1. 3.]\n"
     ]
    }
   ],
   "source": [
    "alist = [1., 1., 1., 3.]\n",
    "aarray = np.ones(4)\n",
    "aarray[3] = 3.\n",
    "print(alist)\n",
    "print(aarray)"
   ]
  },
  {
   "cell_type": "code",
   "execution_count": 39,
   "metadata": {},
   "outputs": [
    {
     "name": "stdout",
     "output_type": "stream",
     "text": [
      "1.0\n"
     ]
    }
   ],
   "source": [
    "print(alist[2])"
   ]
  },
  {
   "cell_type": "code",
   "execution_count": 40,
   "metadata": {},
   "outputs": [
    {
     "name": "stdout",
     "output_type": "stream",
     "text": [
      "1.0\n"
     ]
    }
   ],
   "source": [
    "print(aarray[2])"
   ]
  },
  {
   "cell_type": "code",
   "execution_count": 41,
   "metadata": {},
   "outputs": [
    {
     "name": "stdout",
     "output_type": "stream",
     "text": [
      "[2. 2. 2. 6.]\n"
     ]
    }
   ],
   "source": [
    "print(aarray + aarray)"
   ]
  },
  {
   "cell_type": "code",
   "execution_count": 42,
   "metadata": {},
   "outputs": [
    {
     "name": "stdout",
     "output_type": "stream",
     "text": [
      "[1.0, 1.0, 1.0, 3.0, 1.0, 1.0, 1.0, 3.0]\n"
     ]
    }
   ],
   "source": [
    "print(alist + alist)"
   ]
  },
  {
   "cell_type": "code",
   "execution_count": 45,
   "metadata": {},
   "outputs": [
    {
     "name": "stdout",
     "output_type": "stream",
     "text": [
      "[1. 1. 1. 3.]\n"
     ]
    }
   ],
   "source": [
    "print(np.array(alist))"
   ]
  },
  {
   "cell_type": "code",
   "execution_count": 46,
   "metadata": {},
   "outputs": [
    {
     "name": "stdout",
     "output_type": "stream",
     "text": [
      "[1.0, 1.0, 1.0, 'hello']\n"
     ]
    }
   ],
   "source": [
    "blist = [1., 1., 1., \"hello\"]\n",
    "print(blist)"
   ]
  },
  {
   "cell_type": "code",
   "execution_count": 47,
   "metadata": {},
   "outputs": [
    {
     "ename": "UFuncTypeError",
     "evalue": "ufunc 'add' did not contain a loop with signature matching types (dtype('<U32'), dtype('float64')) -> None",
     "output_type": "error",
     "traceback": [
      "\u001b[0;31m---------------------------------------------------------------------------\u001b[0m",
      "\u001b[0;31mUFuncTypeError\u001b[0m                            Traceback (most recent call last)",
      "Cell \u001b[0;32mIn[47], line 1\u001b[0m\n\u001b[0;32m----> 1\u001b[0m \u001b[38;5;28mprint\u001b[39m(\u001b[43mblist\u001b[49m\u001b[43m \u001b[49m\u001b[38;5;241;43m+\u001b[39;49m\u001b[43m \u001b[49m\u001b[43maarray\u001b[49m)\n",
      "\u001b[0;31mUFuncTypeError\u001b[0m: ufunc 'add' did not contain a loop with signature matching types (dtype('<U32'), dtype('float64')) -> None"
     ]
    }
   ],
   "source": [
    "print(blist + aarray)"
   ]
  },
  {
   "cell_type": "markdown",
   "metadata": {},
   "source": [
    "## ufuncs"
   ]
  },
  {
   "cell_type": "markdown",
   "metadata": {},
   "source": [
    "ufuncs are methods of ndarray objects that act on the array as a whole. To show how ufuncs work, I will generate a set of random numbers (uniform between 0 and 1)."
   ]
  },
  {
   "cell_type": "code",
   "execution_count": 48,
   "metadata": {},
   "outputs": [
    {
     "name": "stdout",
     "output_type": "stream",
     "text": [
      "[0.38755951 0.26882708 0.4100732  0.07695825 0.87383881 0.67433494\n",
      " 0.19584667 0.97221409 0.94096695 0.40556932 0.54275131 0.63471005\n",
      " 0.25901389 0.63654889 0.8067426  0.57495465 0.94539921 0.71349272\n",
      " 0.68191428 0.93652998 0.06606264 0.03331043 0.50758852 0.57074307\n",
      " 0.15853815 0.39107969 0.94299298 0.63114838 0.18896133 0.98152171\n",
      " 0.2942467  0.39864365 0.44378105 0.52034231 0.25157048 0.88865059\n",
      " 0.93681706 0.23394425 0.97406512 0.31987737 0.81354839 0.31102635\n",
      " 0.45975713 0.53069495 0.22712557 0.59983536 0.12823221 0.1804894\n",
      " 0.69831503 0.77257248 0.99446363 0.52829745 0.81257318 0.61022343\n",
      " 0.84814556 0.34587946 0.1038842  0.35869025 0.48639219 0.90536078\n",
      " 0.2602415  0.10274975 0.08135628 0.82108007 0.51505129 0.4268225\n",
      " 0.38197485 0.11107338 0.92865004 0.53262672 0.33449309 0.96427729\n",
      " 0.08721945 0.33754772 0.27235138 0.74648662 0.06145765 0.80595858\n",
      " 0.18376809 0.63781178 0.87507015 0.52306938 0.33737367 0.27303097\n",
      " 0.40848377 0.86460889 0.33921882 0.05676996 0.84825289 0.25223338\n",
      " 0.85288025 0.63539307 0.50080737 0.78845462 0.19561722 0.28116425\n",
      " 0.30991355 0.59083845 0.32853514 0.23760066]\n"
     ]
    }
   ],
   "source": [
    "r = np.random.random(100)\n",
    "print(r)"
   ]
  },
  {
   "cell_type": "code",
   "execution_count": 49,
   "metadata": {},
   "outputs": [
    {
     "name": "stdout",
     "output_type": "stream",
     "text": [
      "0.9944636263005462\n"
     ]
    }
   ],
   "source": [
    "print(r.max())"
   ]
  },
  {
   "cell_type": "code",
   "execution_count": 50,
   "metadata": {},
   "outputs": [
    {
     "name": "stdout",
     "output_type": "stream",
     "text": [
      "0.03331042706742682\n"
     ]
    }
   ],
   "source": [
    "print(r.min())"
   ]
  },
  {
   "cell_type": "code",
   "execution_count": 51,
   "metadata": {},
   "outputs": [
    {
     "name": "stdout",
     "output_type": "stream",
     "text": [
      "0.5047995339345547\n"
     ]
    }
   ],
   "source": [
    "print(r.mean())"
   ]
  },
  {
   "cell_type": "code",
   "execution_count": 52,
   "metadata": {},
   "outputs": [
    {
     "name": "stdout",
     "output_type": "stream",
     "text": [
      "0.2823265832765444\n"
     ]
    }
   ],
   "source": [
    "print(r.std())"
   ]
  },
  {
   "cell_type": "code",
   "execution_count": 53,
   "metadata": {},
   "outputs": [
    {
     "name": "stdout",
     "output_type": "stream",
     "text": [
      "[False False False False False False False  True  True False False False\n",
      " False False False False  True False False  True False False False False\n",
      " False False  True False False  True False False False False False False\n",
      "  True False  True False False False False False False False False False\n",
      " False False  True False False False False False False False False  True\n",
      " False False False False False False False False  True False False  True\n",
      " False False False False False False False False False False False False\n",
      " False False False False False False False False False False False False\n",
      " False False False False]\n"
     ]
    }
   ],
   "source": [
    "print(r > 0.9)"
   ]
  },
  {
   "cell_type": "code",
   "execution_count": 55,
   "metadata": {},
   "outputs": [
    {
     "name": "stdout",
     "output_type": "stream",
     "text": [
      "[0.97221409 0.94096695 0.94539921 0.93652998 0.94299298 0.98152171\n",
      " 0.93681706 0.97406512 0.99446363 0.90536078 0.92865004 0.96427729]\n",
      "12\n"
     ]
    }
   ],
   "source": [
    "print(r[r > 0.9])\n",
    "print((r > 0.9).sum())"
   ]
  },
  {
   "cell_type": "code",
   "execution_count": 56,
   "metadata": {},
   "outputs": [
    {
     "name": "stdout",
     "output_type": "stream",
     "text": [
      "[0.03331043 0.05676996 0.06145765 0.06606264 0.07695825 0.08135628\n",
      " 0.08721945 0.10274975 0.1038842  0.11107338 0.12823221 0.15853815\n",
      " 0.1804894  0.18376809 0.18896133 0.19561722 0.19584667 0.22712557\n",
      " 0.23394425 0.23760066 0.25157048 0.25223338 0.25901389 0.2602415\n",
      " 0.26882708 0.27235138 0.27303097 0.28116425 0.2942467  0.30991355\n",
      " 0.31102635 0.31987737 0.32853514 0.33449309 0.33737367 0.33754772\n",
      " 0.33921882 0.34587946 0.35869025 0.38197485 0.38755951 0.39107969\n",
      " 0.39864365 0.40556932 0.40848377 0.4100732  0.4268225  0.44378105\n",
      " 0.45975713 0.48639219 0.50080737 0.50758852 0.51505129 0.52034231\n",
      " 0.52306938 0.52829745 0.53069495 0.53262672 0.54275131 0.57074307\n",
      " 0.57495465 0.59083845 0.59983536 0.61022343 0.63114838 0.63471005\n",
      " 0.63539307 0.63654889 0.63781178 0.67433494 0.68191428 0.69831503\n",
      " 0.71349272 0.74648662 0.77257248 0.78845462 0.80595858 0.8067426\n",
      " 0.81257318 0.81354839 0.82108007 0.84814556 0.84825289 0.85288025\n",
      " 0.86460889 0.87383881 0.87507015 0.88865059 0.90536078 0.92865004\n",
      " 0.93652998 0.93681706 0.94096695 0.94299298 0.94539921 0.96427729\n",
      " 0.97221409 0.97406512 0.98152171 0.99446363]\n"
     ]
    }
   ],
   "source": [
    "print(np.sort(r))"
   ]
  },
  {
   "cell_type": "code",
   "execution_count": 57,
   "metadata": {},
   "outputs": [
    {
     "name": "stdout",
     "output_type": "stream",
     "text": [
      "[False False False False False False False False False False False False\n",
      " False False False False False False False False False False False False\n",
      " False False False False False False False False False False False False\n",
      " False False False False False False False False False False False False\n",
      " False False False False False False False False False False False False\n",
      " False False False False False False False False False False False False\n",
      " False False False False False False False False False False False False\n",
      " False False False False  True  True  True  True  True  True  True  True\n",
      "  True  True  True  True]\n"
     ]
    }
   ],
   "source": [
    "print(np.sort(r) > 0.9)"
   ]
  },
  {
   "cell_type": "code",
   "execution_count": 58,
   "metadata": {},
   "outputs": [
    {
     "name": "stdout",
     "output_type": "stream",
     "text": [
      "[21 87 76 20  3 62 72 61 56 67 46 24 47 78 28 94  6 44 37 99 34 89 12 60\n",
      "  1 74 83 95 30 96 41 39 98 70 82 73 86 55 57 66  0 25 31  9 84  2 65 32\n",
      " 42 58 92 22 64 33 81 51 43 69 10 23 15 97 45 53 27 11 91 13 79  5 18 48\n",
      " 17 75 49 93 77 14 52 40 63 54 88 90 85  4 80 35 59 68 19 36  8 26 16 71\n",
      "  7 38 29 50]\n"
     ]
    }
   ],
   "source": [
    "isort = np.argsort(r)\n",
    "print(isort)"
   ]
  },
  {
   "cell_type": "code",
   "execution_count": 59,
   "metadata": {},
   "outputs": [
    {
     "name": "stdout",
     "output_type": "stream",
     "text": [
      "[0.03331043 0.05676996 0.06145765 0.06606264 0.07695825 0.08135628\n",
      " 0.08721945 0.10274975 0.1038842  0.11107338 0.12823221 0.15853815\n",
      " 0.1804894  0.18376809 0.18896133 0.19561722 0.19584667 0.22712557\n",
      " 0.23394425 0.23760066 0.25157048 0.25223338 0.25901389 0.2602415\n",
      " 0.26882708 0.27235138 0.27303097 0.28116425 0.2942467  0.30991355\n",
      " 0.31102635 0.31987737 0.32853514 0.33449309 0.33737367 0.33754772\n",
      " 0.33921882 0.34587946 0.35869025 0.38197485 0.38755951 0.39107969\n",
      " 0.39864365 0.40556932 0.40848377 0.4100732  0.4268225  0.44378105\n",
      " 0.45975713 0.48639219 0.50080737 0.50758852 0.51505129 0.52034231\n",
      " 0.52306938 0.52829745 0.53069495 0.53262672 0.54275131 0.57074307\n",
      " 0.57495465 0.59083845 0.59983536 0.61022343 0.63114838 0.63471005\n",
      " 0.63539307 0.63654889 0.63781178 0.67433494 0.68191428 0.69831503\n",
      " 0.71349272 0.74648662 0.77257248 0.78845462 0.80595858 0.8067426\n",
      " 0.81257318 0.81354839 0.82108007 0.84814556 0.84825289 0.85288025\n",
      " 0.86460889 0.87383881 0.87507015 0.88865059 0.90536078 0.92865004\n",
      " 0.93652998 0.93681706 0.94096695 0.94299298 0.94539921 0.96427729\n",
      " 0.97221409 0.97406512 0.98152171 0.99446363]\n"
     ]
    }
   ],
   "source": [
    "print(r[isort])"
   ]
  },
  {
   "cell_type": "code",
   "execution_count": null,
   "metadata": {},
   "outputs": [],
   "source": []
  }
 ],
 "metadata": {
  "kernelspec": {
   "display_name": "Python 3 (ipykernel)",
   "language": "python",
   "name": "python3"
  },
  "language_info": {
   "codemirror_mode": {
    "name": "ipython",
    "version": 3
   },
   "file_extension": ".py",
   "mimetype": "text/x-python",
   "name": "python",
   "nbconvert_exporter": "python",
   "pygments_lexer": "ipython3",
   "version": "3.8.17"
  }
 },
 "nbformat": 4,
 "nbformat_minor": 2
}
